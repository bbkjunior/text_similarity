{
 "cells": [
  {
   "cell_type": "markdown",
   "metadata": {},
   "source": [
    "# Анализ временных свойств глаголов"
   ]
  },
  {
   "cell_type": "markdown",
   "metadata": {},
   "source": [
    "Разбираем тексты с помощью Mystem\n",
    "\n",
    "Выволдим количество глаголов непрошедшего, прошедшего и настоящего времени\n",
    "\n",
    "Приводим полученные значения к векторному виду, сравниваем, делаем вывод"
   ]
  },
  {
   "cell_type": "code",
   "execution_count": 19,
   "metadata": {},
   "outputs": [],
   "source": [
    "import re\n",
    "import pandas as pd\n",
    "import numpy as np\n",
    "from pymystem3 import Mystem\n",
    "import string\n",
    "\n",
    "import operator\n",
    "from scipy.spatial import distance\n",
    "\n",
    "import json\n",
    "\n",
    "from collections import OrderedDict"
   ]
  },
  {
   "cell_type": "code",
   "execution_count": 11,
   "metadata": {},
   "outputs": [],
   "source": [
    "def verb_tense_counter(mystemmed_line, tense_dict):\n",
    "    \"\"\"получаем на выход список слов, разобранных с помощью Mystem, ищем глаголы, создаем словарь \"\"\"\n",
    "    non_past = 0\n",
    "    past = 0\n",
    "    present = 0\n",
    "    for i in mystemmed_line:\n",
    "        keys = list(i.keys())\n",
    "        values = list(i.values())\n",
    "        word  = i['text']\n",
    "        if ('analysis' not in keys):\n",
    "            pass\n",
    "        elif(i['analysis'] ==[]):\n",
    "            pass\n",
    "        else:\n",
    "            grammar = i['analysis'][0]['gr']\n",
    "            grammar_sep_by_comma = grammar.split(',')\n",
    "            if (len(grammar_sep_by_comma) == 1):\n",
    "                pass\n",
    "            else:\n",
    "                pos = re.match('[A-Z\\s]+', grammar_sep_by_comma[0])[0]\n",
    "                if(pos == \"V\"):\n",
    "                    if ('непрош' in grammar):\n",
    "                        tense_dict['non_past'] += 1\n",
    "                    elif ('прош' in grammar):\n",
    "                         tense_dict['past'] += 1\n",
    "                    elif('наст' in grammar):\n",
    "                         tense_dict['present'] += 1"
   ]
  },
  {
   "cell_type": "code",
   "execution_count": 13,
   "metadata": {},
   "outputs": [],
   "source": [
    "def verb_tense_counter_file(file):\n",
    "    m = Mystem()\n",
    "    tense_dict = {'non_past':0,'past':0,'present':0}\n",
    "    with open (file, \"r\", encoding = \"utf-8\") as file:\n",
    "        for line in file.readlines():\n",
    "            if(line != '\\n' ):\n",
    "                mystemmed_line = m.analyze(line)\n",
    "                verb_tense_counter(mystemmed_line, tense_dict)\n",
    "    return tense_dict"
   ]
  },
  {
   "cell_type": "code",
   "execution_count": 14,
   "metadata": {},
   "outputs": [],
   "source": [
    "rzn_verb_tense_dict = verb_tense_counter_file('speech_rzn.txt')\n",
    "yml_verb_tense_dict = verb_tense_counter_file('speech_yml.txt')\n",
    "tula_verb_tense_dict = verb_tense_counter_file('speech_tula.txt')\n",
    "tmn_verb_tense_dict = verb_tense_counter_file('speech_tmn.txt')\n",
    "putin_verb_tense_dict = verb_tense_counter_file('speech_putin.txt')"
   ]
  },
  {
   "cell_type": "code",
   "execution_count": 16,
   "metadata": {},
   "outputs": [],
   "source": [
    "def get_tense_vector(dictionary):\n",
    "    \"\"\"из полученных значений параметров глаголов создаем вектор\"\"\"\n",
    "    vector = []\n",
    "    tense_keys = ['non_past', 'past', 'present']\n",
    "    for key in tense_keys:\n",
    "        vector.append(dictionary[key])\n",
    "    sum_vector = sum(vector)\n",
    "    #делим \n",
    "    vector = [x/sum_vector for x in vector]\n",
    "    n_vector = np.asarray(vector)\n",
    "    return n_vector"
   ]
  },
  {
   "cell_type": "code",
   "execution_count": 17,
   "metadata": {},
   "outputs": [],
   "source": [
    "rzn_verb_tense_vector = get_tense_vector(rzn_verb_tense_dict)\n",
    "yml_verb_tense_vector = get_tense_vector(yml_verb_tense_dict)\n",
    "tula_verb_tense_vector  = get_tense_vector(tula_verb_tense_dict)\n",
    "tmn_verb_tense_vector  = get_tense_vector(tmn_verb_tense_dict)\n",
    "putin_verb_tense_vector  = get_tense_vector(putin_verb_tense_dict)"
   ]
  },
  {
   "cell_type": "code",
   "execution_count": null,
   "metadata": {},
   "outputs": [],
   "source": [
    "#ПОПАРНО БЕЗ ПОВТОРЕНИЙ СРАВНИВАЕМ ВСЕ ПОЛУЧЕННЫЕ ЗНАЧЕНИЯ"
   ]
  },
  {
   "cell_type": "code",
   "execution_count": 20,
   "metadata": {},
   "outputs": [
    {
     "name": "stdout",
     "output_type": "stream",
     "text": [
      "ryazan vs tyumen\n",
      "0.0032589601151555847\n",
      "ryazan vs tula\n",
      "0.0042693278635163034\n",
      "ryazan vs yamal\n",
      "0.002433909260803113\n",
      "ryazan vs putin\n",
      "0.0015354254094934738\n",
      "\n",
      "tyumen vs tula\n",
      "6.823582771064984e-05\n",
      "tyumen vs yamal\n",
      "6.018813223995778e-05\n",
      "tyumen vs putin\n",
      "0.0003208690677445336\n",
      "\n",
      "tula vs yamal\n",
      "0.0002565872951347803\n",
      "tula vs putin\n",
      "0.000684991816803926\n",
      "\n",
      "yamal vs putin\n",
      "0.00010312545242430193\n",
      "\n",
      "\n",
      "ryazan is most similar to Putin speech\n"
     ]
    }
   ],
   "source": [
    "vectors_dict = {'ryazan':rzn_verb_tense_vector,\"tyumen\":tmn_verb_tense_vector,\"tula\": tula_verb_tense_vector, \"yamal\": yml_verb_tense_vector, \"putin\":putin_verb_tense_vector}\n",
    "putin_cosine_distance_dict = {'ryazan':0,\"tyumen\":0,\"tula\": 0, \"yamal\": 0}\n",
    "ordered_vectors_dict = OrderedDict(vectors_dict)\n",
    "keys = list(ordered_vectors_dict.keys())\n",
    "values = list(ordered_vectors_dict.values())\n",
    "\n",
    "for dict_ind in range(len(keys)):\n",
    "    current_vect = values[dict_ind]\n",
    "    for compare_ind in range(dict_ind + 1,len(keys)):\n",
    "        print(keys[dict_ind], \"vs\", keys[compare_ind])\n",
    "        compared_vect = values[compare_ind]\n",
    "        #print(current_vect,compared_vect)\n",
    "        print(distance.cosine(current_vect,compared_vect))\n",
    "        \n",
    "        if(keys[compare_ind] == 'putin'):\n",
    "            putin_cosine_distance_dict[keys[dict_ind]] = distance.cosine(current_vect,compared_vect)\n",
    "    print()\n",
    "sorted_x = sorted(putin_cosine_distance_dict.items(), key=operator.itemgetter(1))\n",
    "print(sorted_x[-1][0],\"is most similar to Putin speech\")"
   ]
  }
 ],
 "metadata": {
  "kernelspec": {
   "display_name": "Python 3",
   "language": "python",
   "name": "python3"
  },
  "language_info": {
   "codemirror_mode": {
    "name": "ipython",
    "version": 3
   },
   "file_extension": ".py",
   "mimetype": "text/x-python",
   "name": "python",
   "nbconvert_exporter": "python",
   "pygments_lexer": "ipython3",
   "version": "3.6.4"
  }
 },
 "nbformat": 4,
 "nbformat_minor": 2
}
